{
  "nbformat": 4,
  "nbformat_minor": 0,
  "metadata": {
    "colab": {
      "name": "Hw1_task1",
      "provenance": []
    },
    "kernelspec": {
      "name": "python3",
      "display_name": "Python 3"
    },
    "language_info": {
      "name": "python"
    }
  },
  "cells": [
    {
      "cell_type": "code",
      "execution_count": null,
      "metadata": {
        "id": "G5SvSj_Y2NM_"
      },
      "outputs": [],
      "source": [
        "from pyspark.sql import SparkSession\n",
        "from pyspark.sql.functions import explode \n",
        "from pyspark.sql.functions import *\n",
        "from pyspark.sql.types import StructType\n",
        "from pyspark.sql.functions import window\n",
        "from pyspark.sql.functions import to_timestamp"
      ]
    },
    {
      "cell_type": "code",
      "source": [
        "#create a schema and load the streaming file as a dataframe\n",
        "Schema = StructType().add('ip', 'string').add('time','string').add('Request','string').add('status','integer').add('bytes','integer')\n",
        "df = spark.read.schema(Schema).option(\"sep\",\" \").csv(\"/content/streaming.csv\")"
      ],
      "metadata": {
        "id": "i43dWOR22TlO"
      },
      "execution_count": null,
      "outputs": []
    },
    {
      "cell_type": "code",
      "source": [
        "#Drop all non-IP addresses and order the result of task1\n",
        "sum = df.select(\"ip\",\"bytes\").filter(df['ip'].rlike('^[0-9]')).filter(df['ip'].rlike('[0-9]$')).groupBy(\"ip\").sum(\"bytes\")\n",
        "res = sum.orderBy(sum['ip'])\n",
        "res.toPandas().to_csv('task1.csv')"
      ],
      "metadata": {
        "id": "y_kSqNxD2gV4"
      },
      "execution_count": null,
      "outputs": []
    }
  ]
}