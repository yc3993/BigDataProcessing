{
  "nbformat": 4,
  "nbformat_minor": 0,
  "metadata": {
    "colab": {
      "name": "Hw1_task4",
      "provenance": []
    },
    "kernelspec": {
      "name": "python3",
      "display_name": "Python 3"
    },
    "language_info": {
      "name": "python"
    }
  },
  "cells": [
    {
      "cell_type": "code",
      "execution_count": null,
      "metadata": {
        "id": "oTfhqojp43Wa"
      },
      "outputs": [],
      "source": [
        "from pyspark.sql import SparkSession\n",
        "from pyspark.sql.functions import explode \n",
        "from pyspark.sql.functions import *\n",
        "from pyspark.sql.types import StructType\n",
        "from pyspark.sql.functions import window\n",
        "from pyspark.sql.functions import to_timestamp"
      ]
    },
    {
      "cell_type": "code",
      "source": [
        "Schema = StructType().add('ip', 'string').add('time','string').add('request','string').add('status','integer').add('bytes','integer')\n",
        "df = spark.read.schema(userSchema).option(\"sep\",\" \").csv(\"/content/streaming.csv\")"
      ],
      "metadata": {
        "id": "bj5a72m35UHH"
      },
      "execution_count": null,
      "outputs": []
    },
    {
      "cell_type": "code",
      "source": [
        "#delete the last number and replace with *\n",
        "df = df.withColumn('subnet',regexp_replace(col(\"ip\"),\"[0-9]+$\",\"\\*\"))\n",
        "sum = df.select(\"subnet\",\"bytes\").filter(df.subnet.rlike('^[0-9]')).filter(df.subnet.rlike('\\*$')).groupBy(\"subnet\").sum(\"bytes\")\n",
        "sum = sum_bytes.orderBy(sum['subnet'].desc())\n",
        "sum.toPandas().to_csv('task4_v1.csv')"
      ],
      "metadata": {
        "id": "1s8mKW2H5ZXj"
      },
      "execution_count": null,
      "outputs": []
    },
    {
      "cell_type": "code",
      "source": [
        "#After delete the last digit number, do the same deletion again\n",
        "df2 = df.withColumn(\"new\",expr(\"substring(subnet, 1, length(subnet)-2)\"))\n",
        "df3 = df2.withColumn('subnetthree',regexp_replace(col(\"new\"),\"[0-9]+$\",\"\\*\"))\n",
        "res3 = df3.select(\"subnetthree\",\"bytes\").filter(df3.subnetthree.rlike('^[0-9]')).filter(df3.subnetthree.rlike('\\*$')).groupBy(\"subnetthree\").sum(\"bytes\")\n",
        "res = res3.orderBy(res3['subnetthree'])\n",
        "res.toPandas().to_csv('task4_v2.csv')"
      ],
      "metadata": {
        "id": "jElNr2Ch5x8O"
      },
      "execution_count": null,
      "outputs": []
    }
  ]
}