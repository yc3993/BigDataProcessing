{
  "nbformat": 4,
  "nbformat_minor": 0,
  "metadata": {
    "colab": {
      "name": "Hw2_task2",
      "provenance": []
    },
    "kernelspec": {
      "name": "python3",
      "display_name": "Python 3"
    },
    "language_info": {
      "name": "python"
    }
  },
  "cells": [
    {
      "cell_type": "code",
      "execution_count": null,
      "metadata": {
        "id": "vgpZnQbh2-kk"
      },
      "outputs": [],
      "source": [
        "from pyspark.sql import SparkSession\n",
        "from pyspark.sql.functions import explode \n",
        "from pyspark.sql.functions import *\n",
        "from pyspark.sql.types import StructType\n",
        "from pyspark.sql.functions import window\n",
        "from pyspark.sql.functions import to_timestamp"
      ]
    },
    {
      "cell_type": "code",
      "source": [
        "#same as task1\n",
        "Schema = StructType().add('ip', 'string').add('time','string').add('Request','string').add('status','integer').add('bytes','integer')\n",
        "df = spark.read.schema(Schema).option(\"sep\",\" \").csv(\"/content/streaming.csv\")\n",
        "sum = df.select(\"ip\",\"bytes\").filter(df['ip'].rlike('^[0-9]')).filter(df['ip'].rlike('[0-9]$')).groupBy(\"ip\").sum(\"bytes\")\n",
        "res = sum.orderBy(sum['sum(bytes)'].desc())"
      ],
      "metadata": {
        "id": "qTDwmaSe3DJg"
      },
      "execution_count": null,
      "outputs": []
    },
    {
      "cell_type": "code",
      "source": [
        "#output the kth words\n",
        "def helper(k):\n",
        "  task2 = res.limit(k)\n",
        "  task2.toPandas().to_csv('task2.csv')"
      ],
      "metadata": {
        "id": "gRjhSD7j3Tve"
      },
      "execution_count": null,
      "outputs": []
    }
  ]
}