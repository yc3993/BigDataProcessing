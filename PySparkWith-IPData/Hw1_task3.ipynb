{
  "nbformat": 4,
  "nbformat_minor": 0,
  "metadata": {
    "colab": {
      "name": "Hw1_task3",
      "provenance": []
    },
    "kernelspec": {
      "name": "python3",
      "display_name": "Python 3"
    },
    "language_info": {
      "name": "python"
    }
  },
  "cells": [
    {
      "cell_type": "code",
      "source": [
        "from pyspark.sql import SparkSession\n",
        "from pyspark.sql.functions import explode \n",
        "from pyspark.sql.functions import *\n",
        "from pyspark.sql.types import StructType\n",
        "from pyspark.sql.functions import window\n",
        "from pyspark.sql.functions import to_timestamp"
      ],
      "metadata": {
        "id": "pUBk6CEX3vq-"
      },
      "execution_count": null,
      "outputs": []
    },
    {
      "cell_type": "code",
      "execution_count": null,
      "metadata": {
        "id": "Rd7GZ_ZE3oV0"
      },
      "outputs": [],
      "source": [
        "Schema = StructType().add('ip', 'string').add('time','string').add('request','string').add('status','integer').add('bytes','integer')\n",
        "df = spark.read.schema(Schema).option(\"sep\",\" \").csv(\"/content/streaming.csv\")"
      ]
    },
    {
      "cell_type": "code",
      "source": [
        "#transfer the time into timestamp in dataframe\n",
        "df = sum.withColumn('time',col('time')[2:11])\n",
        "df = df.withColumn('time',to_timestamp(\"time\",\"dd:HH:mm:ss\"))"
      ],
      "metadata": {
        "id": "7A1HhZup30pu"
      },
      "execution_count": null,
      "outputs": []
    },
    {
      "cell_type": "code",
      "source": [
        "#used window function to count the bytes and sort the result\n",
        "temp=df.groupBy(window(\"time\",\"60 minutes\"),\"ip\").sum(\"bytes\")\n",
        "res = temp.select(\"*\").filter(temp.window['start']==start)\n",
        "res.toPandas().to_csv('task3.csv')"
      ],
      "metadata": {
        "id": "fV-D-EVv3_tA"
      },
      "execution_count": null,
      "outputs": []
    }
  ]
}